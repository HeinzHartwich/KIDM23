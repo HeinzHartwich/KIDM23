{
 "cells": [
  {
   "cell_type": "markdown",
   "metadata": {},
   "source": [
    "# Sie arbeiten mit Schleifen. Das sind gezielte Wiederholungen von Codes"
   ]
  },
  {
   "cell_type": "code",
   "execution_count": 3,
   "metadata": {},
   "outputs": [
    {
     "name": "stdout",
     "output_type": "stream",
     "text": [
      "0\n",
      "1\n",
      "2\n",
      "3\n",
      "4\n"
     ]
    }
   ],
   "source": [
    "# 1. Einfache Zählerschleife\n",
    "for i in range(5):\n",
    "    print(i)"
   ]
  },
  {
   "cell_type": "code",
   "execution_count": 4,
   "metadata": {},
   "outputs": [
    {
     "name": "stdout",
     "output_type": "stream",
     "text": [
      "1\n",
      "3\n",
      "5\n",
      "7\n",
      "9\n"
     ]
    }
   ],
   "source": [
    "# 2. Zählerschleife mit Inkrement 2\n",
    "#        range( starwert, Endwert, Inkrement)\n",
    "# w3schools.com -> Python -> Loops\n",
    "for i in range(1, 10, 2):\n",
    "    print(i)"
   ]
  },
  {
   "cell_type": "code",
   "execution_count": 5,
   "metadata": {},
   "outputs": [
    {
     "name": "stdout",
     "output_type": "stream",
     "text": [
      "10\n",
      "9\n",
      "8\n",
      "7\n",
      "6\n",
      "5\n",
      "4\n",
      "3\n",
      "2\n"
     ]
    }
   ],
   "source": [
    "# 3. Zählerschleife mit Dekrement 2\n",
    "for i in range(10, 1, -1):\n",
    "    print(i)"
   ]
  },
  {
   "cell_type": "code",
   "execution_count": 12,
   "metadata": {},
   "outputs": [
    {
     "name": "stdout",
     "output_type": "stream",
     "text": [
      "540579\n",
      "826250\n",
      "938170\n",
      "944052\n",
      "270756\n"
     ]
    }
   ],
   "source": [
    "# Anwendung1: Erzeugen von Zufallszahlen; Einmalpasswort; TAN (oder besser wie eine TAN)\n",
    "\n",
    "from random import randint\n",
    "for i in range(5):\n",
    "    print(randint(100000, 1000000))"
   ]
  },
  {
   "cell_type": "markdown",
   "metadata": {},
   "source": [
    "## Was sie bereits wissen: ASCII-Zeichen haben eine Ordnungsnummer; Bsp ord(\"A\") ist 65\n"
   ]
  },
  {
   "cell_type": "code",
   "execution_count": 21,
   "metadata": {},
   "outputs": [
    {
     "name": "stdout",
     "output_type": "stream",
     "text": [
      "65\n",
      "A\n",
      "G\n"
     ]
    }
   ],
   "source": [
    "# Ordnungsnummer vom Zeichen \"A\"\n",
    "print(ord(\"A\"))\n",
    "# Zeichen \"A\" erzeugen\n",
    "print(chr(65))\n",
    "# ... also ginge auch \n",
    "print(chr(randint(65, 81)))"
   ]
  },
  {
   "cell_type": "markdown",
   "metadata": {},
   "source": [
    "# Anwendung: Erzeugen eines Voucher-Codes\n",
    "### Teilaufgabe Zeichen verketten"
   ]
  },
  {
   "cell_type": "code",
   "execution_count": 22,
   "metadata": {},
   "outputs": [
    {
     "name": "stdout",
     "output_type": "stream",
     "text": [
      "hallo\n",
      "AB\n"
     ]
    }
   ],
   "source": [
    "# Zeichen kann man verketten, indem man  \"+\" zwischen Zeichen verwendet:\n",
    "zeichenfolge = \"h\"+\"a\"+\"l\"+\"l\"\"o\"\n",
    "print(zeichenfolge)\n",
    "# oder ...\n",
    "zeichen1 = \"A\"\n",
    "zeichen2 = \"B\"\n",
    "zeichenfolge = zeichen1 + zeichen2\n",
    "print(zeichenfolge)"
   ]
  },
  {
   "cell_type": "markdown",
   "metadata": {},
   "source": [
    "## Der Voucher-Code soll aus 10 zufällig ausgewählten Zeichen der ASCII-Tabelle aus dem Bereich der Großbuchstaben bestehen.\n",
    "### Hier folgt der von ihnen zu implementierende Code ...."
   ]
  },
  {
   "cell_type": "code",
   "execution_count": 23,
   "metadata": {},
   "outputs": [
    {
     "name": "stdout",
     "output_type": "stream",
     "text": [
      "95\n"
     ]
    }
   ],
   "source": [
    "import random\n",
    "print(randint(61, 100))"
   ]
  },
  {
   "cell_type": "code",
   "execution_count": 75,
   "metadata": {},
   "outputs": [
    {
     "name": "stdout",
     "output_type": "stream",
     "text": [
      "ABCDEFGHIJKLMNOPQRSTUVWXYZ\n",
      "UAGJSBIVYL\n"
     ]
    }
   ],
   "source": [
    "import string\n",
    "import random\n",
    "zeichen = string.ascii_uppercase\n",
    "print(zeichen)\n",
    "print(\"\".join(random.choice(zeichen) for _ in range(10)))"
   ]
  },
  {
   "cell_type": "code",
   "execution_count": 97,
   "metadata": {},
   "outputs": [
    {
     "name": "stdout",
     "output_type": "stream",
     "text": [
      "77 74 67 65 81 77 77 68 68 78 "
     ]
    }
   ],
   "source": [
    "import random\n",
    "liste= [None]*10\n",
    "for i in range(10):\n",
    "    liste[i]= random.randint(65, 81)\n",
    "for element in liste:\n",
    "    print(element, end=\" \")\n"
   ]
  }
 ],
 "metadata": {
  "kernelspec": {
   "display_name": "Python 3",
   "language": "python",
   "name": "python3"
  },
  "language_info": {
   "codemirror_mode": {
    "name": "ipython",
    "version": 3
   },
   "file_extension": ".py",
   "mimetype": "text/x-python",
   "name": "python",
   "nbconvert_exporter": "python",
   "pygments_lexer": "ipython3",
   "version": "3.10.8"
  }
 },
 "nbformat": 4,
 "nbformat_minor": 2
}
